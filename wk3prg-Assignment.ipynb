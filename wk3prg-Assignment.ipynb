{
 "cells": [
  {
   "cell_type": "markdown",
   "id": "42c17761",
   "metadata": {},
   "source": [
    "# 1. Write a Python program that demonstrates the use of an `asyncio` event loop to run asynchronous tasks."
   ]
  },
  {
   "cell_type": "code",
   "execution_count": 13,
   "id": "cf9b30cf",
   "metadata": {},
   "outputs": [],
   "source": [
    "import asyncio\n",
    "\n",
    "async def say_hello():\n",
    "    print(\"Hello!\")\n",
    "    await asyncio.sleep(1)\n",
    "    print(\"How are you?\")\n",
    "\n",
    "async def say_goodbye():\n",
    "    print(\"Goodbye!\")\n",
    "    await asyncio.sleep(2)\n",
    "    print(\"See you later!\")"
   ]
  },
  {
   "cell_type": "code",
   "execution_count": 14,
   "id": "e793016f",
   "metadata": {},
   "outputs": [],
   "source": [
    "async def main():\n",
    "    await asyncio.gather(say_hello(), say_goodbye())"
   ]
  },
  {
   "cell_type": "code",
   "execution_count": 15,
   "id": "85ef4bce",
   "metadata": {},
   "outputs": [
    {
     "name": "stdout",
     "output_type": "stream",
     "text": [
      "Hello!\n",
      "Goodbye!\n",
      "How are you?\n",
      "See you later!\n"
     ]
    }
   ],
   "source": [
    "await main()"
   ]
  },
  {
   "cell_type": "markdown",
   "id": "a25b9f4b",
   "metadata": {},
   "source": [
    "# 2. Write a Python program that demonstrates the use of a callback function."
   ]
  },
  {
   "cell_type": "code",
   "execution_count": 16,
   "id": "1ddc686b",
   "metadata": {},
   "outputs": [],
   "source": [
    "def process_data(data, callback):\n",
    "    print(f\"Processing data: {data}\")\n",
    "    result = data * 2\n",
    "\n",
    "    callback(result)"
   ]
  },
  {
   "cell_type": "code",
   "execution_count": 17,
   "id": "bdec0daf",
   "metadata": {},
   "outputs": [],
   "source": [
    "def print_result(result):\n",
    "    print(f\"Result: {result}\")"
   ]
  },
  {
   "cell_type": "code",
   "execution_count": 18,
   "id": "e85be342",
   "metadata": {},
   "outputs": [
    {
     "name": "stdout",
     "output_type": "stream",
     "text": [
      "Processing data: 10\n",
      "Result: 20\n"
     ]
    }
   ],
   "source": [
    "data = 10\n",
    "process_data(data, print_result)"
   ]
  },
  {
   "cell_type": "markdown",
   "id": "b1748b94",
   "metadata": {},
   "source": [
    "# 3. Write a Python program using `asyncio` that demonstrates concurrent execution of multiple tasks with different wait times."
   ]
  },
  {
   "cell_type": "code",
   "execution_count": 20,
   "id": "855c0574",
   "metadata": {},
   "outputs": [],
   "source": [
    "import asyncio\n",
    "\n",
    "async def task(name, delay):\n",
    "    await asyncio.sleep(delay)\n",
    "    print(f\"Task {name} completed after {delay} seconds\")"
   ]
  },
  {
   "cell_type": "code",
   "execution_count": 21,
   "id": "ed51a88d",
   "metadata": {},
   "outputs": [],
   "source": [
    "async def main():\n",
    "    await asyncio.gather(task(\"A\", 1), task(\"B\", 2), task(\"C\", 3))"
   ]
  },
  {
   "cell_type": "code",
   "execution_count": 22,
   "id": "2ee5226c",
   "metadata": {},
   "outputs": [
    {
     "name": "stdout",
     "output_type": "stream",
     "text": [
      "Task A completed after 1 seconds\n",
      "Task B completed after 2 seconds\n",
      "Task C completed after 3 seconds\n"
     ]
    }
   ],
   "source": [
    "await main()"
   ]
  },
  {
   "cell_type": "code",
   "execution_count": null,
   "id": "a3997f36",
   "metadata": {},
   "outputs": [],
   "source": []
  }
 ],
 "metadata": {
  "kernelspec": {
   "display_name": "Python 3 (ipykernel)",
   "language": "python",
   "name": "python3"
  },
  "language_info": {
   "codemirror_mode": {
    "name": "ipython",
    "version": 3
   },
   "file_extension": ".py",
   "mimetype": "text/x-python",
   "name": "python",
   "nbconvert_exporter": "python",
   "pygments_lexer": "ipython3",
   "version": "3.11.5"
  }
 },
 "nbformat": 4,
 "nbformat_minor": 5
}
