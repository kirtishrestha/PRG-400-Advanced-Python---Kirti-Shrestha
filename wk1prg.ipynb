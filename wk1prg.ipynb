{
 "cells": [
  {
   "cell_type": "markdown",
   "id": "fe1ebbf5",
   "metadata": {},
   "source": [
    "### Develop an example code showing concept of private attribute, inheritance and polymorphism."
   ]
  },
  {
   "cell_type": "code",
   "execution_count": 2,
   "id": "1a82c07a",
   "metadata": {},
   "outputs": [],
   "source": [
    "# Base class\n",
    "\n",
    "class Animal:\n",
    "    def __init__(self, name, sound):\n",
    "        self.__name = name  # Private attribute\n",
    "        self.sound = sound\n",
    "\n",
    "    def make_sound(self):\n",
    "        return f\"{self.__name} makes a {self.sound} sound.\""
   ]
  },
  {
   "cell_type": "code",
   "execution_count": 3,
   "id": "df2c3ece",
   "metadata": {},
   "outputs": [],
   "source": [
    "# Derived class inheriting from Animal (Inheritance)\n",
    "\n",
    "class Dog(Animal):\n",
    "    def __init__(self, name):\n",
    "        super().__init__(name, \"bark\")\n",
    "\n",
    "    def fetch(self):\n",
    "        return f\"{self._Animal__name} is fetching a ball.\"  # Accessing the private attribute from the parent class\n",
    "\n",
    "class Cat(Animal):\n",
    "    def __init__(self, name):\n",
    "        super().__init__(name, \"meow\")\n",
    "\n",
    "    def scratch(self):\n",
    "        return f\"{self._Animal__name} is scratching the furniture.\"  # Accessing the private attribute from the parent class"
   ]
  },
  {
   "cell_type": "code",
   "execution_count": 4,
   "id": "05f0fa97",
   "metadata": {},
   "outputs": [],
   "source": [
    "# Polymorphism\n",
    "\n",
    "def animal_activity(animal):\n",
    "    print(animal.make_sound())"
   ]
  },
  {
   "cell_type": "code",
   "execution_count": 5,
   "id": "7b492f33",
   "metadata": {},
   "outputs": [],
   "source": [
    "dog = Dog(\"Hakku\")\n",
    "cat = Cat(\"Neko\")"
   ]
  },
  {
   "cell_type": "code",
   "execution_count": 6,
   "id": "dbbf719f",
   "metadata": {
    "scrolled": true
   },
   "outputs": [
    {
     "name": "stdout",
     "output_type": "stream",
     "text": [
      "Hakku makes a bark sound.\n",
      "Neko makes a meow sound.\n"
     ]
    }
   ],
   "source": [
    "animal_activity(dog)  # Buddy makes a bark sound.\n",
    "animal_activity(cat)  # Whiskers makes a meow sound."
   ]
  },
  {
   "cell_type": "code",
   "execution_count": 7,
   "id": "25d14183",
   "metadata": {},
   "outputs": [
    {
     "name": "stdout",
     "output_type": "stream",
     "text": [
      "Hakku is fetching a ball.\n",
      "Neko is scratching the furniture.\n"
     ]
    }
   ],
   "source": [
    "print(dog.fetch())    # Buddy is fetching a ball.\n",
    "print(cat.scratch())  # Whiskers is scratching the furniture."
   ]
  },
  {
   "cell_type": "markdown",
   "id": "7ebf4ca5",
   "metadata": {},
   "source": [
    "### Develop an example code showing concept of Abstract Base Class."
   ]
  },
  {
   "cell_type": "code",
   "execution_count": 8,
   "id": "8cb653f5",
   "metadata": {},
   "outputs": [],
   "source": [
    "from abc import ABC, abstractmethod\n",
    "\n",
    "# Abstract Base Class (ABC)\n",
    "class Animal(ABC):\n",
    "    def __init__(self, name):\n",
    "        self.name = name\n",
    "    \n",
    "    @abstractmethod\n",
    "    def make_sound(self):\n",
    "        pass\n",
    "\n",
    "    def eat(self):\n",
    "        return f\"{self.name} is eating.\""
   ]
  },
  {
   "cell_type": "code",
   "execution_count": 9,
   "id": "77db1f1d",
   "metadata": {},
   "outputs": [],
   "source": [
    "class Dog(Animal):\n",
    "    def make_sound(self):\n",
    "        return f\"{self.name} says: Woof!\"\n",
    "\n",
    "class Cat(Animal):\n",
    "    def make_sound(self):\n",
    "        return f\"{self.name} says: Meow!\""
   ]
  },
  {
   "cell_type": "code",
   "execution_count": 10,
   "id": "2ddffb74",
   "metadata": {},
   "outputs": [],
   "source": [
    "dog = Dog(\"Haku\")\n",
    "cat = Cat(\"Neko\")"
   ]
  },
  {
   "cell_type": "code",
   "execution_count": 11,
   "id": "5f580202",
   "metadata": {},
   "outputs": [
    {
     "name": "stdout",
     "output_type": "stream",
     "text": [
      "Haku says: Woof!\n",
      "Haku is eating.\n",
      "Neko says: Meow!\n",
      "Neko is eating.\n"
     ]
    }
   ],
   "source": [
    "print(dog.make_sound())\n",
    "print(dog.eat())\n",
    "print(cat.make_sound())\n",
    "print(cat.eat())"
   ]
  },
  {
   "cell_type": "markdown",
   "id": "0580af11",
   "metadata": {},
   "source": [
    "### Develop an example code showing concept of composition"
   ]
  },
  {
   "cell_type": "code",
   "execution_count": 12,
   "id": "6129040c",
   "metadata": {},
   "outputs": [],
   "source": [
    "class Leg:\n",
    "    def __init__(self, leg_count):\n",
    "        self.leg_count = leg_count\n",
    "\n",
    "    def number_of_legs(self):\n",
    "        return f\"This animal has {self.leg_count} legs.\""
   ]
  },
  {
   "cell_type": "code",
   "execution_count": 13,
   "id": "aae9f7c2",
   "metadata": {},
   "outputs": [],
   "source": [
    "class Tail:\n",
    "    def __init__(self, tail_length):\n",
    "        self.tail_length = tail_length\n",
    "\n",
    "    def tail_info(self):\n",
    "        return f\"This animal has a tail that is {self.tail_length} meters long.\""
   ]
  },
  {
   "cell_type": "code",
   "execution_count": 14,
   "id": "57bad12c",
   "metadata": {},
   "outputs": [],
   "source": [
    "class Animal:\n",
    "    def __init__(self, name, leg_count, tail_length):\n",
    "        self.name = name\n",
    "        # Composition: Animal has Legs\n",
    "        self.legs = Leg(leg_count)\n",
    "        # Composition: Animal has a Tail\n",
    "        self.tail = Tail(tail_length)\n",
    "\n",
    "    def describe(self):\n",
    "        return (f\"{self.name} description:\\n\"\n",
    "                f\"{self.legs.number_of_legs()}\\n\"\n",
    "                f\"{self.tail.tail_info()}\")"
   ]
  },
  {
   "cell_type": "code",
   "execution_count": 15,
   "id": "2564da4f",
   "metadata": {},
   "outputs": [],
   "source": [
    "dog = Animal(\"Dog\", 4, 0.5)"
   ]
  },
  {
   "cell_type": "code",
   "execution_count": 16,
   "id": "1aca9124",
   "metadata": {},
   "outputs": [],
   "source": [
    "kangaroo = Animal(\"Kangaroo\", 2, 1)"
   ]
  },
  {
   "cell_type": "code",
   "execution_count": 17,
   "id": "7f16d05f",
   "metadata": {},
   "outputs": [
    {
     "name": "stdout",
     "output_type": "stream",
     "text": [
      "Dog description:\n",
      "This animal has 4 legs.\n",
      "This animal has a tail that is 0.5 meters long.\n"
     ]
    }
   ],
   "source": [
    "print(dog.describe())"
   ]
  },
  {
   "cell_type": "code",
   "execution_count": 18,
   "id": "803b4105",
   "metadata": {},
   "outputs": [
    {
     "name": "stdout",
     "output_type": "stream",
     "text": [
      "Kangaroo description:\n",
      "This animal has 2 legs.\n",
      "This animal has a tail that is 1 meters long.\n"
     ]
    }
   ],
   "source": [
    "print(kangaroo.describe())"
   ]
  },
  {
   "cell_type": "markdown",
   "id": "b14edfe2",
   "metadata": {},
   "source": [
    "### Develop code using dunder methods to add, subtract, multiply and divide complex numbers."
   ]
  },
  {
   "cell_type": "code",
   "execution_count": 19,
   "id": "6338a894",
   "metadata": {},
   "outputs": [],
   "source": [
    "class ComplexNumber:\n",
    "    def __init__(self, real, imaginary):\n",
    "        self.real = real\n",
    "        self.imaginary = imaginary\n",
    "        \n",
    "    # Dunder method for addition (+)\n",
    "    def __add__(self, other):\n",
    "        return ComplexNumber(self.real + other.real, self.imaginary + other.imaginary)\n",
    "    \n",
    "    # Dunder method for subtraction (-)\n",
    "    def __sub__(self, other):\n",
    "        return ComplexNumber(self.real - other.real, self.imaginary - other.imaginary)\n",
    "\n",
    "    # Dunder method for multiplication (*)\n",
    "    def __mul__(self, other):\n",
    "        real_part = self.real * other.real - self.imaginary * other.imaginary\n",
    "        imaginary_part = self.real * other.imaginary + self.imaginary * other.real\n",
    "        return ComplexNumber(real_part, imaginary_part)\n",
    "\n",
    "    # Dunder method for division (/)\n",
    "    def __truediv__(self, other):\n",
    "        denom = other.real ** 2 + other.imaginary ** 2\n",
    "        real_part = (self.real * other.real + self.imaginary * other.imaginary) / denom\n",
    "        imaginary_part = (self.imaginary * other.real - self.real * other.imaginary) / denom\n",
    "        return ComplexNumber(real_part, imaginary_part)\n",
    "\n",
    "    # Dunder method for string representation\n",
    "    def __str__(self):\n",
    "        if self.imaginary >= 0:\n",
    "            return f\"{self.real} + {self.imaginary}i\"\n",
    "        else:\n",
    "            return f\"{self.real} - {-self.imaginary}i\"\n"
   ]
  },
  {
   "cell_type": "code",
   "execution_count": 20,
   "id": "12acda5a",
   "metadata": {},
   "outputs": [],
   "source": [
    "c1 = ComplexNumber(3, 2)\n",
    "c2 = ComplexNumber(1, 7)"
   ]
  },
  {
   "cell_type": "code",
   "execution_count": 21,
   "id": "6f9033ae",
   "metadata": {},
   "outputs": [
    {
     "name": "stdout",
     "output_type": "stream",
     "text": [
      "3 + 2i + 1 + 7i = 4 + 9i\n"
     ]
    }
   ],
   "source": [
    "c3 = c1 + c2\n",
    "print(f\"{c1} + {c2} = {c3}\")"
   ]
  },
  {
   "cell_type": "code",
   "execution_count": 22,
   "id": "115976c9",
   "metadata": {},
   "outputs": [
    {
     "name": "stdout",
     "output_type": "stream",
     "text": [
      "3 + 2i - 1 + 7i = 2 - 5i\n"
     ]
    }
   ],
   "source": [
    "c4 = c1 - c2\n",
    "print(f\"{c1} - {c2} = {c4}\")"
   ]
  },
  {
   "cell_type": "code",
   "execution_count": 23,
   "id": "9a9751db",
   "metadata": {},
   "outputs": [
    {
     "name": "stdout",
     "output_type": "stream",
     "text": [
      "3 + 2i * 1 + 7i = -11 + 23i\n"
     ]
    }
   ],
   "source": [
    "c5 = c1 * c2\n",
    "print(f\"{c1} * {c2} = {c5}\")"
   ]
  },
  {
   "cell_type": "markdown",
   "id": "d51a3bed",
   "metadata": {},
   "source": [
    "- (a+bi)×(c+di)=(ac−bd)+(ad+bc)i"
   ]
  },
  {
   "cell_type": "code",
   "execution_count": 24,
   "id": "a17ca651",
   "metadata": {},
   "outputs": [
    {
     "name": "stdout",
     "output_type": "stream",
     "text": [
      "3 + 2i / 1 + 7i = 0.34 - 0.38i\n"
     ]
    }
   ],
   "source": [
    "c6 = c1 / c2\n",
    "print(f\"{c1} / {c2} = {c6}\")"
   ]
  }
 ],
 "metadata": {
  "kernelspec": {
   "display_name": "Python 3 (ipykernel)",
   "language": "python",
   "name": "python3"
  },
  "language_info": {
   "codemirror_mode": {
    "name": "ipython",
    "version": 3
   },
   "file_extension": ".py",
   "mimetype": "text/x-python",
   "name": "python",
   "nbconvert_exporter": "python",
   "pygments_lexer": "ipython3",
   "version": "3.11.5"
  }
 },
 "nbformat": 4,
 "nbformat_minor": 5
}
