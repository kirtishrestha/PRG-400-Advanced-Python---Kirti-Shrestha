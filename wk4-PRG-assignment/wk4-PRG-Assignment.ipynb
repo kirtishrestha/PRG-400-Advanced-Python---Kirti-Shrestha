{
 "cells": [
  {
   "cell_type": "markdown",
   "id": "879b4431",
   "metadata": {},
   "source": [
    "# Create at least three different functions in C an call them using ctypes**"
   ]
  },
  {
   "cell_type": "code",
   "execution_count": 38,
   "id": "fc0ce29a",
   "metadata": {},
   "outputs": [
    {
     "name": "stdout",
     "output_type": "stream",
     "text": [
      "5 + 7 = 12\n",
      "4 * 6 = 24\n",
      "The length of the message is 12\n"
     ]
    }
   ],
   "source": [
    "import ctypes\n",
    "import os\n",
    "\n",
    "lib = ctypes.CDLL('./libmyfunctions.dylib')\n",
    "\n",
    "lib.add.argtypes = [ctypes.c_int, ctypes.c_int]\n",
    "lib.add.restype = ctypes.c_int\n",
    "\n",
    "result = lib.add(5, 7)\n",
    "print(f\"5 + 7 = {result}\")\n",
    "\n",
    "lib.multiply.argtypes = [ctypes.c_int, ctypes.c_int]\n",
    "lib.multiply.restype = ctypes.c_int\n",
    "\n",
    "result = lib.multiply(4, 6)\n",
    "print(f\"4 * 6 = {result}\")\n",
    "\n",
    "lib.print_message.argtypes = [ctypes.c_char_p]\n",
    "lib.print_message.restype = ctypes.c_int\n",
    "\n",
    "message = b\"Hello World!\"\n",
    "length = lib.print_message(message)\n",
    "print(f\"The length of the message is {length}\")"
   ]
  },
  {
   "cell_type": "markdown",
   "id": "b26c1440",
   "metadata": {},
   "source": [
    "# Create a recursive function in C and python as well and copmare their performance."
   ]
  },
  {
   "cell_type": "code",
   "execution_count": 36,
   "id": "848ff4a0",
   "metadata": {},
   "outputs": [
    {
     "name": "stdout",
     "output_type": "stream",
     "text": [
      "Python factorial(20) = 2432902008176640000 in 0.000088 seconds\n",
      "C factorial(20) = 2432902008176640000 in 0.000094 seconds\n",
      "Performance comparison: C is 0.93 times faster than Python\n"
     ]
    }
   ],
   "source": [
    "import time\n",
    "import ctypes\n",
    "import os\n",
    "\n",
    "def python_factorial(n):\n",
    "    if n <= 1:\n",
    "        return 1\n",
    "    return n * python_factorial(n - 1)\n",
    "\n",
    "lib = ctypes.CDLL('./libfactorial.dylib')\n",
    "\n",
    "lib.factorial.argtypes = [ctypes.c_int]\n",
    "lib.factorial.restype = ctypes.c_ulonglong\n",
    "\n",
    "n = 20\n",
    "\n",
    "start_time = time.time()\n",
    "python_result = python_factorial(n)\n",
    "python_time = time.time() - start_time\n",
    "print(f\"Python factorial({n}) = {python_result} in {python_time:.6f} seconds\")\n",
    "\n",
    "start_time = time.time()\n",
    "c_result = lib.factorial(n)\n",
    "c_time = time.time() - start_time\n",
    "print(f\"C factorial({n}) = {c_result} in {c_time:.6f} seconds\")\n",
    "\n",
    "print(f\"Performance comparison: C is {python_time / c_time:.2f} times faster than Python\")"
   ]
  },
  {
   "cell_type": "markdown",
   "id": "665ce9cb",
   "metadata": {},
   "source": [
    "# Read on the topic pybind11 and provide some examples."
   ]
  },
  {
   "cell_type": "code",
   "execution_count": 37,
   "id": "37e2364f",
   "metadata": {},
   "outputs": [
    {
     "name": "stdout",
     "output_type": "stream",
     "text": [
      "3\n"
     ]
    }
   ],
   "source": [
    "import Q3\n",
    "print(Q3.add(1, 2))"
   ]
  },
  {
   "cell_type": "code",
   "execution_count": null,
   "id": "ddbafa14",
   "metadata": {},
   "outputs": [],
   "source": []
  }
 ],
 "metadata": {
  "kernelspec": {
   "display_name": "Python 3 (ipykernel)",
   "language": "python",
   "name": "python3"
  },
  "language_info": {
   "codemirror_mode": {
    "name": "ipython",
    "version": 3
   },
   "file_extension": ".py",
   "mimetype": "text/x-python",
   "name": "python",
   "nbconvert_exporter": "python",
   "pygments_lexer": "ipython3",
   "version": "3.11.5"
  }
 },
 "nbformat": 4,
 "nbformat_minor": 5
}
