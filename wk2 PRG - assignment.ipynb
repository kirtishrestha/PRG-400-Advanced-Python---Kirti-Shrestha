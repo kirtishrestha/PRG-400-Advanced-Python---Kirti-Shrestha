{
 "cells": [
  {
   "cell_type": "markdown",
   "id": "25f2c119",
   "metadata": {},
   "source": [
    "# Create a lambda function named `add` that takes two arguments and returns their sum. Test it with the values `7` and `12`."
   ]
  },
  {
   "cell_type": "code",
   "execution_count": 1,
   "id": "7e6894b0",
   "metadata": {},
   "outputs": [
    {
     "data": {
      "text/plain": [
       "19"
      ]
     },
     "execution_count": 1,
     "metadata": {},
     "output_type": "execute_result"
    }
   ],
   "source": [
    "add = lambda a, b: a + b\n",
    "\n",
    "result = add(7, 12)\n",
    "result"
   ]
  },
  {
   "cell_type": "markdown",
   "id": "50dbf025",
   "metadata": {},
   "source": [
    "# Create a lambda function named `power` that takes two arguments `base` and `exp` and returns `base` raised to the power of `exp`. Test it with `2` and `3`."
   ]
  },
  {
   "cell_type": "code",
   "execution_count": 2,
   "id": "878d7d06",
   "metadata": {},
   "outputs": [
    {
     "data": {
      "text/plain": [
       "8"
      ]
     },
     "execution_count": 2,
     "metadata": {},
     "output_type": "execute_result"
    }
   ],
   "source": [
    "power = lambda base, exp: base ** exp\n",
    "\n",
    "result = power(2, 3)\n",
    "result"
   ]
  },
  {
   "cell_type": "markdown",
   "id": "2548c32e",
   "metadata": {},
   "source": [
    "# Given a list of numbers `[1, 3, 5, 7]`, use a lambda function with `map()` to create a new list containing the squares of these numbers. Print the result"
   ]
  },
  {
   "cell_type": "code",
   "execution_count": 3,
   "id": "cb35ca2f",
   "metadata": {},
   "outputs": [
    {
     "data": {
      "text/plain": [
       "[1, 9, 25, 49]"
      ]
     },
     "execution_count": 3,
     "metadata": {},
     "output_type": "execute_result"
    }
   ],
   "source": [
    "nums = [1, 3, 5, 7]\n",
    "\n",
    "sqrt = list(map(lambda x: x**2, nums))\n",
    "sqrt"
   ]
  },
  {
   "cell_type": "markdown",
   "id": "5b9f3446",
   "metadata": {},
   "source": [
    "# Given a list of strings `[\"hello\", \"world\", \"python\"]`, use a lambda function with `map()` to create a new list with each string converted to uppercase. Print the result."
   ]
  },
  {
   "cell_type": "code",
   "execution_count": 5,
   "id": "eda0db15",
   "metadata": {},
   "outputs": [
    {
     "data": {
      "text/plain": [
       "['HELLO', 'WORLD', 'PYTHON']"
      ]
     },
     "execution_count": 5,
     "metadata": {},
     "output_type": "execute_result"
    }
   ],
   "source": [
    "strings = [\"hello\", \"world\", \"python\"]\n",
    "\n",
    "uppercase = list(map(lambda x: x.upper(), strings))\n",
    "uppercase"
   ]
  },
  {
   "cell_type": "markdown",
   "id": "daa761de",
   "metadata": {},
   "source": [
    "# Given a list of numbers `[1, 2, 3, 4, 5, 6]`, use a lambda function with `filter()` to create a new list containing only the even numbers. Print the result."
   ]
  },
  {
   "cell_type": "code",
   "execution_count": 8,
   "id": "5f397537",
   "metadata": {},
   "outputs": [
    {
     "data": {
      "text/plain": [
       "[2, 4, 6]"
      ]
     },
     "execution_count": 8,
     "metadata": {},
     "output_type": "execute_result"
    }
   ],
   "source": [
    "num = [1, 2, 3, 4, 5, 6]\n",
    "\n",
    "even = list(filter(lambda x: x % 2 == 0, num))\n",
    "even"
   ]
  },
  {
   "cell_type": "markdown",
   "id": "b0eeac62",
   "metadata": {},
   "source": [
    "# Given a list of numbers `[-10, -5, 0, 5, 10]`, use a lambda function with `filter()` to create a new list containing only the positive numbers. Print the result."
   ]
  },
  {
   "cell_type": "code",
   "execution_count": 7,
   "id": "e507ec55",
   "metadata": {},
   "outputs": [
    {
     "data": {
      "text/plain": [
       "[5, 10]"
      ]
     },
     "execution_count": 7,
     "metadata": {},
     "output_type": "execute_result"
    }
   ],
   "source": [
    "num = [-10, -5, 0, 5, 10]\n",
    "\n",
    "positive_numbers = list(filter(lambda x: x > 0, num))\n",
    "positive_numbers"
   ]
  },
  {
   "cell_type": "markdown",
   "id": "4aa56345",
   "metadata": {},
   "source": [
    "# Given a list of tuples `[(1, 3), (4, 1), (5, 2), (3, 7)]`, use a lambda function with `sorted()` to sort the list by the second element of each tuple. Print the result."
   ]
  },
  {
   "cell_type": "code",
   "execution_count": 9,
   "id": "7cf80244",
   "metadata": {},
   "outputs": [
    {
     "data": {
      "text/plain": [
       "[(4, 1), (5, 2), (1, 3), (3, 7)]"
      ]
     },
     "execution_count": 9,
     "metadata": {},
     "output_type": "execute_result"
    }
   ],
   "source": [
    "tuples = [(1, 3), (4, 1), (5, 2), (3, 7)]\n",
    "\n",
    "sorts = sorted(tuples, key=lambda x: x[1])\n",
    "sorts"
   ]
  },
  {
   "cell_type": "markdown",
   "id": "d597f4a8",
   "metadata": {},
   "source": [
    "# Given a list of strings `[\"apple\", \"banana\", \"cherry\"]`, use a lambda function with `sorted()` to sort the strings by their length. Print the result."
   ]
  },
  {
   "cell_type": "code",
   "execution_count": 10,
   "id": "e7834b9f",
   "metadata": {},
   "outputs": [
    {
     "data": {
      "text/plain": [
       "['apple', 'banana', 'cherry']"
      ]
     },
     "execution_count": 10,
     "metadata": {},
     "output_type": "execute_result"
    }
   ],
   "source": [
    "strings = [\"apple\", \"banana\", \"cherry\"]\n",
    "\n",
    "sorts = sorted(strings, key=lambda x: len(x))\n",
    "sorts"
   ]
  },
  {
   "cell_type": "markdown",
   "id": "fd23c7a0",
   "metadata": {},
   "source": [
    "# Create a list of squares of even numbers between 1 and 20 (inclusive) using list comprehension."
   ]
  },
  {
   "cell_type": "code",
   "execution_count": 11,
   "id": "b1d9067d",
   "metadata": {},
   "outputs": [
    {
     "data": {
      "text/plain": [
       "[4, 16, 36, 64, 100, 144, 196, 256, 324, 400]"
      ]
     },
     "execution_count": 11,
     "metadata": {},
     "output_type": "execute_result"
    }
   ],
   "source": [
    "sqrt = [x**2 for x in range(1, 21) if x % 2 == 0]\n",
    "sqrt"
   ]
  },
  {
   "cell_type": "markdown",
   "id": "45fcefe5",
   "metadata": {},
   "source": [
    "# Given a list of strings: `[\"apple\", \"banana\", \"kiwi\", \"cherry\", \"date\"]`, use list comprehension to create a new list containing only the strings with more than 4 characters."
   ]
  },
  {
   "cell_type": "code",
   "execution_count": 12,
   "id": "e20d6d70",
   "metadata": {},
   "outputs": [
    {
     "data": {
      "text/plain": [
       "['apple', 'banana', 'cherry']"
      ]
     },
     "execution_count": 12,
     "metadata": {},
     "output_type": "execute_result"
    }
   ],
   "source": [
    "strings = [\"apple\", \"banana\", \"kiwi\", \"cherry\", \"date\"]\n",
    "\n",
    "char = [s for s in strings if len(s) > 4]\n",
    "char"
   ]
  },
  {
   "cell_type": "markdown",
   "id": "13236a7a",
   "metadata": {},
   "source": [
    "# Given a string: `\"hello world\"`, use set comprehension to create a set of unique characters in the string (excluding spaces)."
   ]
  },
  {
   "cell_type": "code",
   "execution_count": 13,
   "id": "9d55d400",
   "metadata": {},
   "outputs": [
    {
     "data": {
      "text/plain": [
       "{'d', 'e', 'h', 'l', 'o', 'r', 'w'}"
      ]
     },
     "execution_count": 13,
     "metadata": {},
     "output_type": "execute_result"
    }
   ],
   "source": [
    "string = \"hello world\"\n",
    "\n",
    "unique_char = {char for char in string if char != ' '}\n",
    "unique_char"
   ]
  },
  {
   "cell_type": "markdown",
   "id": "ab6812e5",
   "metadata": {},
   "source": [
    "# Create a set of multiples of 3 or 5 between 1 and 50 (inclusive) using set comprehension."
   ]
  },
  {
   "cell_type": "code",
   "execution_count": 14,
   "id": "590a8316",
   "metadata": {},
   "outputs": [
    {
     "data": {
      "text/plain": [
       "{3,\n",
       " 5,\n",
       " 6,\n",
       " 9,\n",
       " 10,\n",
       " 12,\n",
       " 15,\n",
       " 18,\n",
       " 20,\n",
       " 21,\n",
       " 24,\n",
       " 25,\n",
       " 27,\n",
       " 30,\n",
       " 33,\n",
       " 35,\n",
       " 36,\n",
       " 39,\n",
       " 40,\n",
       " 42,\n",
       " 45,\n",
       " 48,\n",
       " 50}"
      ]
     },
     "execution_count": 14,
     "metadata": {},
     "output_type": "execute_result"
    }
   ],
   "source": [
    "multi = {x for x in range(1, 51) if x % 3 == 0 or x % 5 == 0}\n",
    "multi"
   ]
  },
  {
   "cell_type": "markdown",
   "id": "22896b2a",
   "metadata": {},
   "source": [
    "# Create a dictionary where the keys are numbers from 1 to 10 (inclusive) and the values are the squares of these numbers using dictionary comprehension."
   ]
  },
  {
   "cell_type": "code",
   "execution_count": 15,
   "id": "0e12384b",
   "metadata": {},
   "outputs": [
    {
     "data": {
      "text/plain": [
       "{1: 1, 2: 4, 3: 9, 4: 16, 5: 25, 6: 36, 7: 49, 8: 64, 9: 81, 10: 100}"
      ]
     },
     "execution_count": 15,
     "metadata": {},
     "output_type": "execute_result"
    }
   ],
   "source": [
    "sqrt = {x: x**2 for x in range(1, 11)}\n",
    "sqrt"
   ]
  },
  {
   "cell_type": "markdown",
   "id": "700e93aa",
   "metadata": {},
   "source": [
    "# Given a list of words: `[\"apple\", \"banana\", \"apple\", \"orange\", \"banana\", \"apple\"]`, use dictionary comprehension to create a dictionary where the keys are the words and the values are the counts of each word in the list."
   ]
  },
  {
   "cell_type": "code",
   "execution_count": 16,
   "id": "57d485a0",
   "metadata": {},
   "outputs": [
    {
     "data": {
      "text/plain": [
       "{'orange': 1, 'banana': 2, 'apple': 3}"
      ]
     },
     "execution_count": 16,
     "metadata": {},
     "output_type": "execute_result"
    }
   ],
   "source": [
    "words = [\"apple\", \"banana\", \"apple\", \"orange\", \"banana\", \"apple\"]\n",
    "\n",
    "word_counts = {word: words.count(word) for word in set(words)}\n",
    "word_counts"
   ]
  },
  {
   "cell_type": "markdown",
   "id": "39e87326",
   "metadata": {},
   "source": [
    "# Write a generator function `countup(start, end)` that yields numbers from `start` to `end` (inclusive). \n"
   ]
  },
  {
   "cell_type": "code",
   "execution_count": 17,
   "id": "00a59be8",
   "metadata": {},
   "outputs": [
    {
     "data": {
      "text/plain": [
       "[1, 2, 3, 4, 5]"
      ]
     },
     "execution_count": 17,
     "metadata": {},
     "output_type": "execute_result"
    }
   ],
   "source": [
    "def countup(start, end):\n",
    "    current = start\n",
    "    while current <= end:\n",
    "        yield current\n",
    "        current += 1\n",
    "\n",
    "test_generator = countup(1, 5)\n",
    "list(test_generator)"
   ]
  },
  {
   "cell_type": "markdown",
   "id": "11f0ec76",
   "metadata": {},
   "source": [
    "# Write a generator function `even_numbers(n)` that yields the first `n` even numbers."
   ]
  },
  {
   "cell_type": "code",
   "execution_count": 18,
   "id": "8488b4c7",
   "metadata": {},
   "outputs": [
    {
     "data": {
      "text/plain": [
       "[0, 2, 4, 6, 8]"
      ]
     },
     "execution_count": 18,
     "metadata": {},
     "output_type": "execute_result"
    }
   ],
   "source": [
    "def even_numbers(n):\n",
    "    count = 0\n",
    "    number = 0\n",
    "    while count < n:\n",
    "        yield number\n",
    "        number += 2\n",
    "        count += 1\n",
    "\n",
    "test = even_numbers(5)\n",
    "list(test)"
   ]
  },
  {
   "cell_type": "markdown",
   "id": "6abaaf80",
   "metadata": {},
   "source": [
    "# Create a generator expression that yields the squares of numbers from 1 to 10."
   ]
  },
  {
   "cell_type": "code",
   "execution_count": 19,
   "id": "8747fdef",
   "metadata": {},
   "outputs": [
    {
     "data": {
      "text/plain": [
       "[1, 4, 9, 16, 25, 36, 49, 64, 81, 100]"
      ]
     },
     "execution_count": 19,
     "metadata": {},
     "output_type": "execute_result"
    }
   ],
   "source": [
    "squ_gen = (x**2 for x in range(1, 11))\n",
    "list(squ_gen)"
   ]
  },
  {
   "cell_type": "markdown",
   "id": "b0fd9f4d",
   "metadata": {},
   "source": [
    "# Write a decorator named `repeat` that takes an integer `n` as an argument.The decorator should repeat the execution of the decorated function `n` times. Use the `repeat` decorator to modify a function called `print_message` that prints a custom message. Decorate the `print_message` function with your `repeat` decorator, passing `5` as the argument.Verify that the function is called 5 times and that the message is printed each time."
   ]
  },
  {
   "cell_type": "code",
   "execution_count": 22,
   "id": "4797a595",
   "metadata": {},
   "outputs": [
    {
     "name": "stdout",
     "output_type": "stream",
     "text": [
      "There is and execution error in this program.\n",
      "There is and execution error in this program.\n",
      "There is and execution error in this program.\n",
      "There is and execution error in this program.\n",
      "There is and execution error in this program.\n"
     ]
    }
   ],
   "source": [
    "def repeat(n):\n",
    "    def decorator(func):\n",
    "        def wrapper(*args, **kwargs):\n",
    "            for _ in range(n):\n",
    "                func(*args, **kwargs)\n",
    "        return wrapper\n",
    "    return decorator\n",
    "\n",
    "@repeat(5)\n",
    "def message():\n",
    "    print(\"There is and execution error in this program.\")\n",
    "    \n",
    "message()"
   ]
  },
  {
   "cell_type": "code",
   "execution_count": null,
   "id": "260d01e2",
   "metadata": {},
   "outputs": [],
   "source": []
  }
 ],
 "metadata": {
  "kernelspec": {
   "display_name": "Python 3 (ipykernel)",
   "language": "python",
   "name": "python3"
  },
  "language_info": {
   "codemirror_mode": {
    "name": "ipython",
    "version": 3
   },
   "file_extension": ".py",
   "mimetype": "text/x-python",
   "name": "python",
   "nbconvert_exporter": "python",
   "pygments_lexer": "ipython3",
   "version": "3.11.5"
  }
 },
 "nbformat": 4,
 "nbformat_minor": 5
}
